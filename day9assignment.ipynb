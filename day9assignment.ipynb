{
  "nbformat": 4,
  "nbformat_minor": 0,
  "metadata": {
    "colab": {
      "name": "day9assignment.ipynb",
      "provenance": [],
      "authorship_tag": "ABX9TyMPSGAKA5spUvDyt1Z7Bgqf",
      "include_colab_link": true
    },
    "kernelspec": {
      "name": "python3",
      "display_name": "Python 3"
    }
  },
  "cells": [
    {
      "cell_type": "markdown",
      "metadata": {
        "id": "view-in-github",
        "colab_type": "text"
      },
      "source": [
        "<a href=\"https://colab.research.google.com/github/KolisettyLakshmiSupriya/letsupgrade_python/blob/master/day9assignment.ipynb\" target=\"_parent\"><img src=\"https://colab.research.google.com/assets/colab-badge.svg\" alt=\"Open In Colab\"/></a>"
      ]
    },
    {
      "cell_type": "markdown",
      "metadata": {
        "id": "O-R7AdhNMcfG",
        "colab_type": "text"
      },
      "source": [
        "assignment 1"
      ]
    },
    {
      "cell_type": "code",
      "metadata": {
        "id": "gwnk0Di2Md2x",
        "colab_type": "code",
        "colab": {
          "base_uri": "https://localhost:8080/",
          "height": 163
        },
        "outputId": "49052092-e11b-48b9-adc9-f6267a5dced5"
      },
      "source": [
        "! pip install pylint"
      ],
      "execution_count": 12,
      "outputs": [
        {
          "output_type": "stream",
          "text": [
            "Requirement already satisfied: pylint in /usr/local/lib/python3.6/dist-packages (2.6.0)\n",
            "Requirement already satisfied: astroid<=2.5,>=2.4.0 in /usr/local/lib/python3.6/dist-packages (from pylint) (2.4.2)\n",
            "Requirement already satisfied: mccabe<0.7,>=0.6 in /usr/local/lib/python3.6/dist-packages (from pylint) (0.6.1)\n",
            "Requirement already satisfied: toml>=0.7.1 in /usr/local/lib/python3.6/dist-packages (from pylint) (0.10.1)\n",
            "Requirement already satisfied: isort<6,>=4.2.5 in /usr/local/lib/python3.6/dist-packages (from pylint) (5.5.2)\n",
            "Requirement already satisfied: wrapt~=1.11 in /usr/local/lib/python3.6/dist-packages (from astroid<=2.5,>=2.4.0->pylint) (1.12.1)\n",
            "Requirement already satisfied: lazy-object-proxy==1.4.* in /usr/local/lib/python3.6/dist-packages (from astroid<=2.5,>=2.4.0->pylint) (1.4.3)\n",
            "Requirement already satisfied: six~=1.12 in /usr/local/lib/python3.6/dist-packages (from astroid<=2.5,>=2.4.0->pylint) (1.15.0)\n",
            "Requirement already satisfied: typed-ast<1.5,>=1.4.0; implementation_name == \"cpython\" and python_version < \"3.8\" in /usr/local/lib/python3.6/dist-packages (from astroid<=2.5,>=2.4.0->pylint) (1.4.1)\n"
          ],
          "name": "stdout"
        }
      ]
    },
    {
      "cell_type": "code",
      "metadata": {
        "id": "O98k-FjFMkl3",
        "colab_type": "code",
        "colab": {
          "base_uri": "https://localhost:8080/",
          "height": 33
        },
        "outputId": "f593ff90-8607-4597-bf91-d9a79a792830"
      },
      "source": [
        "%%writefile code.py\n",
        "'''\n",
        "its a prime code\n",
        "'''\n",
        "N = 13\n",
        "if N > 1:\n",
        "    for i in range(2, N//2):\n",
        "        if (N % i) == 0:\n",
        "            print( N , \"is not a prime number\\n\")\n",
        "        else:\n",
        "            print( N , \"is a prime number\\n\")\n",
        "else:\n",
        "    print( N , \"is not a prime number\\n\")\n",
        "    print(\"\\n\")\n",
        "    "
      ],
      "execution_count": 34,
      "outputs": [
        {
          "output_type": "stream",
          "text": [
            "Overwriting code.py\n"
          ],
          "name": "stdout"
        }
      ]
    },
    {
      "cell_type": "code",
      "metadata": {
        "id": "p29aminqPmX2",
        "colab_type": "code",
        "colab": {
          "base_uri": "https://localhost:8080/",
          "height": 82
        },
        "outputId": "3a45110d-e7c8-4762-d1a5-9a194fae7018"
      },
      "source": [
        "!pylint \"code.py\""
      ],
      "execution_count": 35,
      "outputs": [
        {
          "output_type": "stream",
          "text": [
            "\n",
            "-------------------------------------------------------------------\n",
            "Your code has been rated at 10.00/10 (previous run: 8.75/10, +1.25)\n",
            "\n"
          ],
          "name": "stdout"
        }
      ]
    },
    {
      "cell_type": "markdown",
      "metadata": {
        "id": "l0eaJN02kpVg",
        "colab_type": "text"
      },
      "source": [
        "assignment 1 using unit testing"
      ]
    },
    {
      "cell_type": "code",
      "metadata": {
        "id": "2T-nFuOwg8on",
        "colab_type": "code",
        "colab": {
          "base_uri": "https://localhost:8080/",
          "height": 33
        },
        "outputId": "4af03e15-1995-4c11-fcaa-e091943ea17c"
      },
      "source": [
        "%%writefile primetext.py\n",
        "def is_prime(number):\n",
        "    \"\"\"Return True if *number* is prime.\"\"\"\n",
        "    if number <= 1:\n",
        "        return False\n",
        "\n",
        "    for element in range(2, number):\n",
        "        if number % element == 0:\n",
        "            return False\n",
        "\n",
        "    return True"
      ],
      "execution_count": 48,
      "outputs": [
        {
          "output_type": "stream",
          "text": [
            "Overwriting primetext.py\n"
          ],
          "name": "stdout"
        }
      ]
    },
    {
      "cell_type": "code",
      "metadata": {
        "id": "_37Plq0ghBfk",
        "colab_type": "code",
        "colab": {
          "base_uri": "https://localhost:8080/",
          "height": 33
        },
        "outputId": "2e079f2f-1e59-4326-ba43-7f1ea18492bf"
      },
      "source": [
        "%%writefile test.py\n",
        "import unittest\n",
        "import primetext\n",
        "#from primes import is_prime\n",
        "\n",
        "class test(unittest.TestCase):\n",
        "    \"\"\"Tests for `primes.py`.\"\"\"\n",
        "\n",
        "    def test_is_five_prime(self):\n",
        "        \"\"\"Is five successfully determined to be prime?\"\"\"\n",
        "        s=5\n",
        "        res=primetext.is_prime(s)\n",
        "        self.assertTrue(res,\"True\")\n",
        "\n",
        "if __name__ == \"__main__\":\n",
        "    unittest.main()"
      ],
      "execution_count": 55,
      "outputs": [
        {
          "output_type": "stream",
          "text": [
            "Overwriting test.py\n"
          ],
          "name": "stdout"
        }
      ]
    },
    {
      "cell_type": "code",
      "metadata": {
        "id": "6BbIfH-2iM9C",
        "colab_type": "code",
        "colab": {
          "base_uri": "https://localhost:8080/",
          "height": 98
        },
        "outputId": "c8e6953d-619d-4f42-e7db-0c0a01255604"
      },
      "source": [
        "!python test.py"
      ],
      "execution_count": 56,
      "outputs": [
        {
          "output_type": "stream",
          "text": [
            ".\n",
            "----------------------------------------------------------------------\n",
            "Ran 1 test in 0.000s\n",
            "\n",
            "OK\n"
          ],
          "name": "stdout"
        }
      ]
    },
    {
      "cell_type": "markdown",
      "metadata": {
        "id": "kTQFVVJygIF2",
        "colab_type": "text"
      },
      "source": [
        "assignment 2"
      ]
    },
    {
      "cell_type": "code",
      "metadata": {
        "id": "ORjYPmeFY_WN",
        "colab_type": "code",
        "colab": {
          "base_uri": "https://localhost:8080/",
          "height": 115
        },
        "outputId": "e0e85ce6-8bac-4068-f90d-9b3faaf08afb"
      },
      "source": [
        "def amg(n):\n",
        "    for i in range(n+1):\n",
        "        a=str(i)\n",
        "        l=list(map(int,list(a)))\n",
        "        c=0\n",
        "        for j in l:\n",
        "            c=c+j**3\n",
        "        if i==c:\n",
        "            yield(i)\n",
        "for i in amg(1000):\n",
        "    print(i)"
      ],
      "execution_count": 11,
      "outputs": [
        {
          "output_type": "stream",
          "text": [
            "0\n",
            "1\n",
            "153\n",
            "370\n",
            "371\n",
            "407\n"
          ],
          "name": "stdout"
        }
      ]
    },
    {
      "cell_type": "code",
      "metadata": {
        "id": "3MU7rQKeZ-6k",
        "colab_type": "code",
        "colab": {}
      },
      "source": [
        ""
      ],
      "execution_count": null,
      "outputs": []
    }
  ]
}