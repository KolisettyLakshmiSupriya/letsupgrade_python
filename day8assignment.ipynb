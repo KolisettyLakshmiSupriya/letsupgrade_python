{
  "nbformat": 4,
  "nbformat_minor": 0,
  "metadata": {
    "colab": {
      "name": "day8assignment.ipynb",
      "provenance": [],
      "authorship_tag": "ABX9TyPHpqSWIYEJTz5dyKwAgckN",
      "include_colab_link": true
    },
    "kernelspec": {
      "name": "python3",
      "display_name": "Python 3"
    }
  },
  "cells": [
    {
      "cell_type": "markdown",
      "metadata": {
        "id": "view-in-github",
        "colab_type": "text"
      },
      "source": [
        "<a href=\"https://colab.research.google.com/github/KolisettyLakshmiSupriya/letsupgrade_python/blob/master/day8assignment.ipynb\" target=\"_parent\"><img src=\"https://colab.research.google.com/assets/colab-badge.svg\" alt=\"Open In Colab\"/></a>"
      ]
    },
    {
      "cell_type": "code",
      "metadata": {
        "id": "qs5GGjmKGju0",
        "colab_type": "code",
        "colab": {}
      },
      "source": [
        ""
      ],
      "execution_count": null,
      "outputs": []
    },
    {
      "cell_type": "markdown",
      "metadata": {
        "id": "rP5dTuraGwJ-",
        "colab_type": "text"
      },
      "source": [
        "assignment 1"
      ]
    },
    {
      "cell_type": "code",
      "metadata": {
        "id": "msk6nlCeGyoy",
        "colab_type": "code",
        "colab": {
          "base_uri": "https://localhost:8080/",
          "height": 196
        },
        "outputId": "2504dd3b-050c-4470-b90b-955be954b242"
      },
      "source": [
        "def test_natural(f):\n",
        "    def helper(x):\n",
        "        if type(x) == int and x > 0 :\n",
        "            return f(x)\n",
        "        else:\n",
        "            return 1\n",
        "            raise exception(\"argument is not an integer\")\n",
        "    return helper\n",
        "@test_natural\n",
        "def factorial(n):\n",
        "    if n==1:\n",
        "        return 1\n",
        "    else:\n",
        "        return n*factorial(n-1)\n",
        "for i in range(1,11):\n",
        "    print(i,factorial(i))\n",
        "print(factorial(-1))"
      ],
      "execution_count": 6,
      "outputs": [
        {
          "output_type": "stream",
          "text": [
            "1 1\n",
            "2 2\n",
            "3 6\n",
            "4 24\n",
            "5 120\n",
            "6 720\n",
            "7 5040\n",
            "8 40320\n",
            "9 362880\n",
            "10 3628800\n",
            "1\n"
          ],
          "name": "stdout"
        }
      ]
    },
    {
      "cell_type": "markdown",
      "metadata": {
        "id": "5D2AzkVlVSGS",
        "colab_type": "text"
      },
      "source": [
        "assignment 2"
      ]
    },
    {
      "cell_type": "code",
      "metadata": {
        "id": "0bE9IYRrKe3-",
        "colab_type": "code",
        "colab": {
          "base_uri": "https://localhost:8080/",
          "height": 50
        },
        "outputId": "e371c563-e591-4537-d875-9b645cecbb83"
      },
      "source": [
        "try:\n",
        "    file=open(\"hloo.txt\",\"r\")\n",
        "    file.write(\"hi\")\n",
        "    file.close()\n",
        "except Exception as e:\n",
        "    print(e)\n",
        "finally:\n",
        "   print(\"welcome to program\")"
      ],
      "execution_count": 10,
      "outputs": [
        {
          "output_type": "stream",
          "text": [
            "not writable\n",
            "welcome to program\n"
          ],
          "name": "stdout"
        }
      ]
    },
    {
      "cell_type": "code",
      "metadata": {
        "id": "X51twu-oUmrJ",
        "colab_type": "code",
        "colab": {}
      },
      "source": [
        ""
      ],
      "execution_count": null,
      "outputs": []
    }
  ]
}