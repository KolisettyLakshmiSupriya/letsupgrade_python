{
  "nbformat": 4,
  "nbformat_minor": 0,
  "metadata": {
    "colab": {
      "name": "day6assignment.ipynb",
      "provenance": [],
      "authorship_tag": "ABX9TyOkKGmNOxTIojkEshPFON+r",
      "include_colab_link": true
    },
    "kernelspec": {
      "name": "python3",
      "display_name": "Python 3"
    }
  },
  "cells": [
    {
      "cell_type": "markdown",
      "metadata": {
        "id": "view-in-github",
        "colab_type": "text"
      },
      "source": [
        "<a href=\"https://colab.research.google.com/github/KolisettyLakshmiSupriya/letsupgrade_python/blob/master/day6assignment.ipynb\" target=\"_parent\"><img src=\"https://colab.research.google.com/assets/colab-badge.svg\" alt=\"Open In Colab\"/></a>"
      ]
    },
    {
      "cell_type": "markdown",
      "metadata": {
        "id": "2K_f1je7j6gC",
        "colab_type": "text"
      },
      "source": [
        "assignment 1"
      ]
    },
    {
      "cell_type": "code",
      "metadata": {
        "id": "lKHDw9f9j8Dz",
        "colab_type": "code",
        "colab": {
          "base_uri": "https://localhost:8080/",
          "height": 196
        },
        "outputId": "81798ab6-6184-4986-91a1-1fc2c35abb19"
      },
      "source": [
        "class BankAccount: \n",
        "    def __init__(self,name,balance): \n",
        "        self.name=name\n",
        "        self.balance=balance\n",
        "        print(\"Hello!!! Welcome to the Deposit & Withdrawal Machine\") \n",
        "\n",
        "    def deposit(self): \n",
        "        amount=float(input(\"Enter amount to be Deposited: \")) \n",
        "        self.balance += amount \n",
        "        print(\"\\n Amount Deposited:\",amount) \n",
        "  \n",
        "    def withdraw(self): \n",
        "        amount = float(input(\"Enter amount to be Withdrawn: \")) \n",
        "        if self.balance>=amount: \n",
        "            self.balance-=amount \n",
        "            print(\"\\n You Withdrew:\", amount) \n",
        "        else: \n",
        "            print(\"\\n Insufficient balance  \") \n",
        "  \n",
        "    def display(self): \n",
        "        print(\"\\n Net Available Balance=\",self.balance) \n",
        "        \n",
        "    def getdet(self):\n",
        "        print(\"hiii\",self.name)\n",
        "        print(\"present balance in your account is\",self.balance)\n",
        "s =  BankAccount (\"supriya\",0)\n",
        "s.getdet()\n",
        "s.deposit() \n",
        "s.withdraw() \n",
        "s.display() "
      ],
      "execution_count": 54,
      "outputs": [
        {
          "output_type": "stream",
          "text": [
            "Hello!!! Welcome to the Deposit & Withdrawal Machine\n",
            "hiii supriya\n",
            "present balance in your account is 0\n",
            "Enter amount to be Deposited: 5000\n",
            "\n",
            " Amount Deposited: 5000.0\n",
            "Enter amount to be Withdrawn: 2000\n",
            "\n",
            " You Withdrew: 2000.0\n",
            "\n",
            " Net Available Balance= 3000.0\n"
          ],
          "name": "stdout"
        }
      ]
    },
    {
      "cell_type": "code",
      "metadata": {
        "id": "rwcnQOUToPxD",
        "colab_type": "code",
        "colab": {}
      },
      "source": [
        ""
      ],
      "execution_count": null,
      "outputs": []
    },
    {
      "cell_type": "markdown",
      "metadata": {
        "id": "eAYVV0BrpKKX",
        "colab_type": "text"
      },
      "source": [
        "assignment 2"
      ]
    },
    {
      "cell_type": "code",
      "metadata": {
        "id": "FxHWT_DEwI0g",
        "colab_type": "code",
        "colab": {
          "base_uri": "https://localhost:8080/",
          "height": 98
        },
        "outputId": "0507751b-a130-49ba-b5fd-8223cdcc3b35"
      },
      "source": [
        "import math \n",
        "pi = math.pi \n",
        "class cone():\n",
        "    def __init__(self,radius,height,slant_height) :\n",
        "        self.radius=radius\n",
        "        self.height=height\n",
        "        self.slant_height=slant_height\n",
        "    def volume(r, h): \n",
        "        return (1 / 3) * pi * r * r * h \n",
        "    def surfacearea(r, s): \n",
        "        return pi * r * s + pi * r * r \n",
        "    def values(self):\n",
        "        print(\"radius is\",self.radius)\n",
        "        print(\"height is\", self.height)\n",
        "        print( \"slant height is\",self.slant_height)\n",
        "s=cone(5,12,13)\n",
        "s.values()\n",
        "print( \"Volume Of Cone : \", volume(radius, height) ) \n",
        "print( \"Surface Area Of Cone : \", surfacearea(radius, slat_height) )"
      ],
      "execution_count": 56,
      "outputs": [
        {
          "output_type": "stream",
          "text": [
            "radius is 5\n",
            "height is 12\n",
            "slant height is 13\n",
            "Volume Of Cone :  314.15926535897927\n",
            "Surface Area Of Cone :  282.7433388230814\n"
          ],
          "name": "stdout"
        }
      ]
    },
    {
      "cell_type": "code",
      "metadata": {
        "id": "Pm9ohtADypm7",
        "colab_type": "code",
        "colab": {}
      },
      "source": [
        ""
      ],
      "execution_count": null,
      "outputs": []
    }
  ]
}