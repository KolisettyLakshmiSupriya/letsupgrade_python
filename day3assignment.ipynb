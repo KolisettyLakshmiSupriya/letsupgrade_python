{
  "nbformat": 4,
  "nbformat_minor": 0,
  "metadata": {
    "colab": {
      "name": "day3assignment.ipynb",
      "provenance": [],
      "authorship_tag": "ABX9TyNpKesYAPYj/MVSWveX4FNb",
      "include_colab_link": true
    },
    "kernelspec": {
      "name": "python3",
      "display_name": "Python 3"
    }
  },
  "cells": [
    {
      "cell_type": "markdown",
      "metadata": {
        "id": "view-in-github",
        "colab_type": "text"
      },
      "source": [
        "<a href=\"https://colab.research.google.com/github/KolisettyLakshmiSupriya/letsupgrade_python/blob/master/day3assignment.ipynb\" target=\"_parent\"><img src=\"https://colab.research.google.com/assets/colab-badge.svg\" alt=\"Open In Colab\"/></a>"
      ]
    },
    {
      "cell_type": "markdown",
      "metadata": {
        "id": "v40ZthGlMlMq",
        "colab_type": "text"
      },
      "source": [
        "assignment 1"
      ]
    },
    {
      "cell_type": "code",
      "metadata": {
        "id": "6MbK2NydMoMv",
        "colab_type": "code",
        "colab": {
          "base_uri": "https://localhost:8080/",
          "height": 50
        },
        "outputId": "7172c17d-a604-4b5f-8316-2e946128e567"
      },
      "source": [
        "alt = input(\"enter an alitude -\")\n",
        "altitude = int(alt)\n",
        "if altitude <= 1000 :\n",
        "    print(\"safe to land\")\n",
        "elif altitude > 1000 and altitude < 5000 :\n",
        "    print(\"bring down to 1000\")\n",
        "else :\n",
        "    print(\"turn around\")\n"
      ],
      "execution_count": 9,
      "outputs": [
        {
          "output_type": "stream",
          "text": [
            "enter an alitude -4567\n",
            "bring down to 1000\n"
          ],
          "name": "stdout"
        }
      ]
    },
    {
      "cell_type": "markdown",
      "metadata": {
        "id": "DWVWSv4xPVQI",
        "colab_type": "text"
      },
      "source": [
        "assignment 2"
      ]
    },
    {
      "cell_type": "code",
      "metadata": {
        "id": "cWJ9hTi6PX_D",
        "colab_type": "code",
        "colab": {
          "base_uri": "https://localhost:8080/",
          "height": 765
        },
        "outputId": "e631a2ff-bf39-46ca-d56d-e433fc0a77b2"
      },
      "source": [
        "for i in range (1,200) :\n",
        "    count=0\n",
        "    for j in range (1,200) :\n",
        "        \n",
        "        if i%j==0 :\n",
        "            count+=1\n",
        "    if count==2 :\n",
        "        print(i)\n",
        "           \n",
        "\n",
        "    "
      ],
      "execution_count": 17,
      "outputs": [
        {
          "output_type": "stream",
          "text": [
            "2\n",
            "3\n",
            "5\n",
            "7\n",
            "11\n",
            "13\n",
            "17\n",
            "19\n",
            "23\n",
            "29\n",
            "31\n",
            "37\n",
            "41\n",
            "43\n",
            "47\n",
            "53\n",
            "59\n",
            "61\n",
            "67\n",
            "71\n",
            "73\n",
            "79\n",
            "83\n",
            "89\n",
            "97\n",
            "101\n",
            "103\n",
            "107\n",
            "109\n",
            "113\n",
            "127\n",
            "131\n",
            "137\n",
            "139\n",
            "149\n",
            "151\n",
            "157\n",
            "163\n",
            "167\n",
            "173\n",
            "179\n",
            "181\n",
            "191\n",
            "193\n",
            "197\n",
            "199\n"
          ],
          "name": "stdout"
        }
      ]
    },
    {
      "cell_type": "code",
      "metadata": {
        "id": "hwjDYgfDQU3u",
        "colab_type": "code",
        "colab": {}
      },
      "source": [
        ""
      ],
      "execution_count": null,
      "outputs": []
    }
  ]
}