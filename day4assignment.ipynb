{
  "nbformat": 4,
  "nbformat_minor": 0,
  "metadata": {
    "colab": {
      "name": "day4assignment.ipynb",
      "provenance": [],
      "authorship_tag": "ABX9TyPn3qxr6dP4xeKzuJegHW2W",
      "include_colab_link": true
    },
    "kernelspec": {
      "name": "python3",
      "display_name": "Python 3"
    }
  },
  "cells": [
    {
      "cell_type": "markdown",
      "metadata": {
        "id": "view-in-github",
        "colab_type": "text"
      },
      "source": [
        "<a href=\"https://colab.research.google.com/github/KolisettyLakshmiSupriya/letsupgrade_python/blob/master/day4assignment.ipynb\" target=\"_parent\"><img src=\"https://colab.research.google.com/assets/colab-badge.svg\" alt=\"Open In Colab\"/></a>"
      ]
    },
    {
      "cell_type": "markdown",
      "metadata": {
        "id": "K-NhROFzRXqM",
        "colab_type": "text"
      },
      "source": [
        "assignment 1"
      ]
    },
    {
      "cell_type": "code",
      "metadata": {
        "id": "VBqrRDJJLhkr",
        "colab_type": "code",
        "colab": {
          "base_uri": "https://localhost:8080/",
          "height": 33
        },
        "outputId": "67d9a499-a0e2-45c0-b4db-96e44218fb87"
      },
      "source": [
        "for i in range(1042000,702648265) :\n",
        "    size = str(i)\n",
        "    length = len(size)\n",
        "    temp = i\n",
        "    sum=0\n",
        "    count=0\n",
        "    while temp > 0:\n",
        "        digit = temp%10\n",
        "        sum+=digit ** length\n",
        "        temp //=10\n",
        "        count+=1\n",
        "    if(i==sum) :\n",
        "        print(i,\"is an armstrong number\")\n",
        "        break\n",
        "   # else:\n",
        "     #   print(i,\"is not an armstrong number\")\n",
        "\n"
      ],
      "execution_count": 16,
      "outputs": [
        {
          "output_type": "stream",
          "text": [
            "1741725 is an armstrong number\n"
          ],
          "name": "stdout"
        }
      ]
    },
    {
      "cell_type": "code",
      "metadata": {
        "id": "HTppMJt4OFi5",
        "colab_type": "code",
        "colab": {}
      },
      "source": [
        ""
      ],
      "execution_count": null,
      "outputs": []
    }
  ]
}